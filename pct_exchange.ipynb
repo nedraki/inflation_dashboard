{
 "cells": [
  {
   "cell_type": "code",
   "execution_count": 1,
   "id": "a1fa0e2b",
   "metadata": {},
   "outputs": [],
   "source": [
    "import requests\n",
    "import pandas as pd\n",
    "import numpy as np\n",
    "import datetime as dt\n",
    "from datetime import datetime, timezone"
   ]
  },
  {
   "cell_type": "code",
   "execution_count": 2,
   "id": "47113a14",
   "metadata": {},
   "outputs": [],
   "source": [
    "### Calculation exchange rate of reference to further math on pct_change:\n",
    "def exchange_reference(df, date_reference):\n",
    "    \n",
    "    memory = {}\n",
    "        \n",
    "    for currency_code in df[\"currency_code\"].unique():\n",
    "        \n",
    "        if currency_code != \"VED\":\n",
    "            date_reference = date_reference\n",
    "        else:\n",
    "            date_reference = \"2021-10-10\"\n",
    "\n",
    "    \n",
    "        ## Select currency for calculations:\n",
    "        df_exchange = df[df['currency_code'] == currency_code ]\n",
    "\n",
    "        ## Select date to calculate reference\n",
    "\n",
    "        df_date_reference = df_exchange.loc[(df_exchange.date).dt.date == pd.Timestamp(date_reference)]\n",
    "\n",
    "        ### Averare exchange rate for day of reference:\n",
    "\n",
    "        implicit_exchange_reference = df_date_reference.implicit_exchange.mean()\n",
    "        \n",
    "        memory[currency_code] = implicit_exchange_reference\n",
    "\n",
    "    ### Percentual Variation\n",
    "\n",
    "#     equation = ((df_exchange.implicit_exchange / implicit_exchange_reference)-1)*100\n",
    "    \n",
    "    \n",
    "    return memory"
   ]
  },
  {
   "cell_type": "code",
   "execution_count": 3,
   "id": "34c516a8",
   "metadata": {},
   "outputs": [],
   "source": [
    "from sqlalchemy import Column, Integer, Float, String, DateTime,Boolean, ForeignKey\n",
    "from sqlalchemy.orm import declarative_base\n",
    "from sqlalchemy import create_engine\n",
    "from sqlalchemy.orm import sessionmaker\n",
    "\n",
    "path_to_currencies = \"sqlite:///data/CurrenciesDataBase.db\"\n",
    "df_market = pd.read_sql('currencies_vs_btc', path_to_currencies)\n",
    "\n",
    "### The pct calculations are not properly saved on the dataset unless I upload one previously saved. Why?\n",
    "# The pipeline defined solve the issue by saving the calculated data on a new dataset but the calculations\n",
    "# are done in the full dataset everytime the code runs.\n",
    "# This practice is not scalable\n",
    "\n",
    "# The pct could be calculated on the web interface for a given date selected by the users but this implies \n",
    "# more processing time"
   ]
  },
  {
   "cell_type": "code",
   "execution_count": null,
   "id": "640eae49",
   "metadata": {},
   "outputs": [],
   "source": [
    "df = df_market.groupby(by=[\"date\",\"currency_code\"]).mean()\n",
    "df.reset_index(inplace=True)\n",
    "\n",
    "### Dataset with implicit exchange of reference by currency:\n",
    "date_reference = \"2021-10-03\"\n",
    "\n",
    "exchange = exchange_reference(df, date_reference)\n",
    "exchange = pd.DataFrame.from_dict(exchange, orient=\"index\")\n",
    "\n",
    "df['pct'] = df.apply(lambda x : ((x['implicit_exchange']/exchange.loc[x[\"currency_code\"]])-1)*100, axis = 1 )\n",
    "\n",
    "### Drop Null values:\n",
    "\n",
    "df.dropna(subset=['pct'], inplace=True)"
   ]
  },
  {
   "cell_type": "code",
   "execution_count": 4,
   "id": "be0a59ed",
   "metadata": {},
   "outputs": [],
   "source": [
    "# df.info()"
   ]
  },
  {
   "cell_type": "code",
   "execution_count": null,
   "id": "f29369b2",
   "metadata": {},
   "outputs": [],
   "source": [
    "# ### Saving on DB Version 2\n",
    "\n",
    "# engine = create_engine('sqlite:///data/CurrenciesDataBase_V2.db')\n",
    "# print(type(engine))\n",
    "# df.to_sql(name=\"currencies_vs_btc\", con=engine, if_exists=\"append\", index=False)"
   ]
  },
  {
   "cell_type": "code",
   "execution_count": null,
   "id": "1bbdd302",
   "metadata": {},
   "outputs": [],
   "source": [
    "now = dt.datetime.now()\n",
    "print(\"Last Execution: \")\n",
    "print(str(now))\n",
    "print('Completed')"
   ]
  }
 ],
 "metadata": {
  "kernelspec": {
   "display_name": "Python 3 (ipykernel)",
   "language": "python",
   "name": "python3"
  },
  "language_info": {
   "codemirror_mode": {
    "name": "ipython",
    "version": 3
   },
   "file_extension": ".py",
   "mimetype": "text/x-python",
   "name": "python",
   "nbconvert_exporter": "python",
   "pygments_lexer": "ipython3",
   "version": "3.8.8"
  }
 },
 "nbformat": 4,
 "nbformat_minor": 5
}
