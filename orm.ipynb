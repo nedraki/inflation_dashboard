{
 "cells": [
  {
   "cell_type": "code",
   "execution_count": null,
   "id": "6158881f",
   "metadata": {},
   "outputs": [],
   "source": [
    "### draft code with ORM approach to stored info on sql database"
   ]
  },
  {
   "cell_type": "code",
   "execution_count": null,
   "id": "1c885dcb",
   "metadata": {},
   "outputs": [],
   "source": [
    "import pandas as pd\n",
    "from sqlalchemy import Column, Integer, Float, String, DateTime,Boolean, ForeignKey\n",
    "from sqlalchemy.orm import declarative_base\n",
    "from sqlalchemy import create_engine\n",
    "from sqlalchemy.orm import sessionmaker\n",
    "\n",
    "# declarative base class\n",
    "Base = declarative_base()\n",
    "\n",
    "# an example mapping using the base\n",
    "class Currencies_vs_btc(Base):\n",
    "    __tablename__ = 'currencies'\n",
    "\n",
    "    id = Column(Integer, primary_key=True)\n",
    "    time_stamp = Column(Float)\n",
    "    date = Column(DateTime)\n",
    "    currency_code = Column(String)\n",
    "    currencies = Column(String)\n",
    "    volume_btc = Column(Float)\n",
    "    avg_24h = Column(Float)\n",
    "    avg_12h = Column(Float)\n",
    "    avg_6h = Column(Float)\n",
    "    avg_1h = Column(Float)\n",
    "    altcoin = Column(Boolean)"
   ]
  },
  {
   "cell_type": "code",
   "execution_count": null,
   "id": "2ec778e2",
   "metadata": {},
   "outputs": [],
   "source": [
    "engine = create_engine('sqlite:///CurrenciesDataBase.db')\n",
    "print(type(engine))\n",
    "\n",
    "\n",
    "# Create database following parameters defined on `Base`:\n",
    "Base.metadata.create_all(engine)\n",
    "\n",
    "# Bind the engine to the metadata of the Base class so that the\n",
    "# declaratives can be accessed through a DBSession instance\n",
    "Base.metadata.bind = engine\n",
    "DBSession = sessionmaker(bind=engine)\n",
    "session = DBSession()"
   ]
  },
  {
   "cell_type": "code",
   "execution_count": null,
   "id": "fd6ac328",
   "metadata": {},
   "outputs": [],
   "source": [
    "df_market = ### read the df of interest"
   ]
  },
  {
   "cell_type": "code",
   "execution_count": null,
   "id": "c0b15f4f",
   "metadata": {},
   "outputs": [],
   "source": [
    "### Iterates over the collected dataframe to create table and stored info on database:\n",
    "\n",
    "\"\"\"df_market is a pandas dataframe collected after connecting with localbitcoins (saved on csv)\"\"\"\n",
    "\n",
    "for index, row in df_market.iterrows():\n",
    "    database_sql = Currencies_vs_btc(id = index,\n",
    "                                     time_stamp = row[\"time_stamp\"],\n",
    "                                     date = row[\"date\"],\n",
    "                                     currency_code= row[\"currency_code\"],\n",
    "                                     currencies= row[\"currencies\"],\n",
    "                                     volume_btc = row[\"volume_btc\"],\n",
    "                                     avg_24h= row[\"avg_24h\"],\n",
    "                                     avg_12h= row[\"avg_12h\"],\n",
    "                                     avg_6h= row[\"avg_6h\"],\n",
    "                                     avg_1h= row[\"avg_1h\"],\n",
    "                                     altcoin= row[\"altcoin\"])\n",
    "    \n",
    "    # Add and commit changes to table `currencies`\n",
    "    session.add(database_sql)\n",
    "    session.commit()"
   ]
  },
  {
   "cell_type": "code",
   "execution_count": null,
   "id": "3f64293f",
   "metadata": {},
   "outputs": [],
   "source": [
    "print(database_sql.id)\n",
    "print(database_sql.date)\n",
    "print(database_sql.currencies)\n",
    "print(database_sql.altcoin)"
   ]
  }
 ],
 "metadata": {
  "kernelspec": {
   "display_name": "venv_inflation",
   "language": "python",
   "name": "venv_inflation"
  },
  "language_info": {
   "codemirror_mode": {
    "name": "ipython",
    "version": 3
   },
   "file_extension": ".py",
   "mimetype": "text/x-python",
   "name": "python",
   "nbconvert_exporter": "python",
   "pygments_lexer": "ipython3",
   "version": "3.8.8"
  }
 },
 "nbformat": 4,
 "nbformat_minor": 5
}
