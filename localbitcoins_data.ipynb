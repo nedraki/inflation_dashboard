{
 "cells": [
  {
   "cell_type": "markdown",
   "id": "a34e92da",
   "metadata": {},
   "source": [
    "# Data retrieval from localbitcoins API"
   ]
  },
  {
   "cell_type": "code",
   "execution_count": null,
   "id": "e2da9d9f",
   "metadata": {},
   "outputs": [],
   "source": [
    "import requests\n",
    "import pandas as pd\n",
    "import numpy as np\n",
    "import datetime as dt\n",
    "from datetime import datetime, timezone\n",
    "import pytz\n",
    "from data_loader_s3 import upload_file"
   ]
  },
  {
   "cell_type": "code",
   "execution_count": null,
   "id": "5a87e53f",
   "metadata": {},
   "outputs": [],
   "source": [
    "def make_request(url_base,url):\n",
    "    r = requests.get(url_base+url)\n",
    "    file_json = r.json()\n",
    "    return file_json\n",
    "\n",
    "def json_to_pandas(file_json:dict):\n",
    "    return pd.DataFrame.from_dict(file_json)\n",
    "\n",
    "\n",
    "### Calculation exchange rate of reference to further math on pct_change:\n",
    "def exchange_reference(df, date_reference):\n",
    "    \n",
    "    memory = {}\n",
    "        \n",
    "    for currency_code in df[\"currency_code\"].unique():\n",
    "        \n",
    "        if currency_code != \"VED\":\n",
    "            date_reference = date_reference\n",
    "        else:\n",
    "            date_reference = \"2021-10-10\"\n",
    "\n",
    "    \n",
    "        ## Select currency for calculations:\n",
    "        df_exchange = df[df['currency_code'] == currency_code ]\n",
    "\n",
    "        ## Select date to calculate reference\n",
    "\n",
    "        df_date_reference = df_exchange.loc[(df_exchange.date).dt.date == pd.Timestamp(date_reference)]\n",
    "\n",
    "        ### Averare exchange rate for day of reference:\n",
    "\n",
    "        implicit_exchange_reference = df_date_reference.implicit_exchange.mean()\n",
    "        \n",
    "        memory[currency_code] = implicit_exchange_reference\n",
    "\n",
    "    ### Percentual Variation\n",
    "\n",
    "#     equation = ((df_exchange.implicit_exchange / implicit_exchange_reference)-1)*100\n",
    "    \n",
    "    \n",
    "    return memory"
   ]
  },
  {
   "cell_type": "markdown",
   "id": "698ddbee",
   "metadata": {},
   "source": [
    "## Currencies"
   ]
  },
  {
   "cell_type": "code",
   "execution_count": null,
   "id": "50e255ec",
   "metadata": {},
   "outputs": [],
   "source": [
    "url_base = 'https://localbitcoins.com/'\n",
    "# Currencies:\n",
    "url = \"api/currencies\"\n",
    "currency_code = make_request(url_base,url)\n",
    "df_currency_code = json_to_pandas(currency_code['data'])\n",
    "# df_currency_code.info()\n",
    "# df_currency_code.head()"
   ]
  },
  {
   "cell_type": "code",
   "execution_count": null,
   "id": "6faa7ce4",
   "metadata": {},
   "outputs": [],
   "source": [
    "## Extract country information related to currency\n",
    "currency_name = []\n",
    "currency_is_altcoin = []\n",
    "for index, row in df_currency_code.iterrows():\n",
    "    currency_name.append(row[0][\"name\"])\n",
    "    currency_is_altcoin.append(row[0][\"altcoin\"])\n",
    "    \n",
    "## Reorganize on df\n",
    "\n",
    "df_currency_code['currencies'] = currency_name\n",
    "df_currency_code['altcoin'] = currency_is_altcoin\n",
    "df_currency_code = df_currency_code.reset_index()\n",
    "\n",
    "df_currency_code.head()"
   ]
  },
  {
   "cell_type": "markdown",
   "id": "63f7d0a0",
   "metadata": {},
   "source": [
    "### Average price of btc by country (in local currency)"
   ]
  },
  {
   "cell_type": "code",
   "execution_count": null,
   "id": "9e57e538",
   "metadata": {},
   "outputs": [],
   "source": [
    "url = \"bitcoinaverage/ticker-all-currencies/\"\n",
    "price_btc = make_request(url_base,url)\n",
    "time_stamp = datetime.now().timestamp()"
   ]
  },
  {
   "cell_type": "code",
   "execution_count": null,
   "id": "b63d5ad6",
   "metadata": {},
   "outputs": [],
   "source": [
    "df_price_btc = json_to_pandas(price_btc)\n",
    "\n",
    "#transpose data frame. Index is now by Country:\n",
    "\n",
    "df_price_btc = df_price_btc.T\n",
    "df_price_btc['time_stamp'] = time_stamp\n",
    "df_price_btc = df_price_btc.reset_index()\n",
    "print(df_price_btc.info())\n",
    "df_price_btc.head()"
   ]
  },
  {
   "cell_type": "markdown",
   "id": "30e04b0b",
   "metadata": {},
   "source": [
    "## Merge and clean dataframe"
   ]
  },
  {
   "cell_type": "code",
   "execution_count": null,
   "id": "224a0652",
   "metadata": {},
   "outputs": [],
   "source": [
    "df_market = df_price_btc.merge(df_currency_code, how='right')\n",
    "\n",
    "# Drop the rows with NAN values in time_stamp\n",
    "df_market.dropna(subset=['time_stamp'], inplace=True)\n",
    "\n",
    "# Add date from time_stamp\n",
    "df_market['date'] = datetime.fromtimestamp(time_stamp, tz=timezone.utc)\n",
    "df_market = df_market[['time_stamp','date','index','currencies','volume_btc','avg_24h','avg_12h','avg_6h','avg_1h','altcoin']]\n",
    "df_market.rename(columns = {'index':'currency_code'}, inplace = True)\n",
    "print(df_market.info())\n",
    "df_market.head(10)\n",
    "\n",
    "\n",
    "### I should include some data formatting so info is stored in the right format"
   ]
  },
  {
   "cell_type": "code",
   "execution_count": null,
   "id": "1a2c744f",
   "metadata": {},
   "outputs": [],
   "source": [
    "## Adding avg_24h exchange rate USD/BTC for inmediate comparison:\n",
    "\n",
    "df_market[\"avg_24h_usd\"] = df_market[df_market['currency_code']==\"USD\"].avg_24h.tolist()[0]"
   ]
  },
  {
   "cell_type": "code",
   "execution_count": null,
   "id": "d371afc4",
   "metadata": {},
   "outputs": [],
   "source": [
    "### Formatting data types:\n",
    "\n",
    "# Float values:\n",
    "for column_label in ['volume_btc','avg_24h','avg_12h','avg_6h','avg_1h','avg_24h_usd']:\n",
    "\n",
    "    df_market[column_label] = pd.to_numeric(df_market[column_label])\n",
    "\n",
    "df_market.info()"
   ]
  },
  {
   "cell_type": "code",
   "execution_count": null,
   "id": "0ca5362e",
   "metadata": {},
   "outputs": [],
   "source": [
    "## Calculating implicit exchange rate:\n",
    "df_market['implicit_exchange'] = df_market['avg_24h'].divide(df_market[\"avg_24h_usd\"], fill_value = None)"
   ]
  },
  {
   "cell_type": "code",
   "execution_count": null,
   "id": "283f69e0",
   "metadata": {},
   "outputs": [],
   "source": [
    "# Drop the rows with NAN values in time_stamp\n",
    "df_market.dropna(subset=['time_stamp'], inplace=True)"
   ]
  },
  {
   "cell_type": "code",
   "execution_count": null,
   "id": "ba881d39",
   "metadata": {},
   "outputs": [],
   "source": [
    "df_market.head(2)"
   ]
  },
  {
   "cell_type": "markdown",
   "id": "13520c80",
   "metadata": {},
   "source": [
    "## Save information in .csv and sql database"
   ]
  },
  {
   "cell_type": "code",
   "execution_count": null,
   "id": "f9ea68a9",
   "metadata": {},
   "outputs": [],
   "source": [
    "# Transform timestamp into ISO standard - UTC time zone:\n",
    "time_stamp = datetime.fromtimestamp(time_stamp)\n",
    "# Convert to UTC\n",
    "time_stamp_utc = time_stamp.astimezone(pytz.utc)\n",
    "print(\"Timestamp UTC\", time_stamp_utc)"
   ]
  },
  {
   "cell_type": "code",
   "execution_count": null,
   "id": "72c31e27",
   "metadata": {},
   "outputs": [],
   "source": [
    "# Saving csv by timestamp:\n",
    "df_market.to_csv(f'./data/csv/{time_stamp_utc}.csv',index=False)\n",
    "# Saving parquet by timestamp:\n",
    "df_market.to_parquet(f'./data/parquet/{time_stamp_utc}.parquet',index=False)\n",
    "\n",
    "# Saving historical data by appending:\n",
    "df_market.to_csv(f'./data/historical_data.csv',index = False, header = None, mode = 'a')\n",
    "# Read historical data and transform into parquet :\n",
    "df_historical = pd.read_csv('./data/historical_data.csv')\n",
    "\n",
    "# Overwrite to update file with appended data\n",
    "df_historical.to_parquet(f'./data/historical_data.parquet',index=False)"
   ]
  },
  {
   "cell_type": "code",
   "execution_count": null,
   "id": "4e6e9439",
   "metadata": {
    "scrolled": true
   },
   "outputs": [],
   "source": [
    "# Append information on sqlite database\n",
    "\n",
    "from sqlalchemy import Column, Integer, Float, String, DateTime,Boolean, ForeignKey\n",
    "from sqlalchemy.orm import declarative_base\n",
    "from sqlalchemy import create_engine\n",
    "from sqlalchemy.orm import sessionmaker\n",
    "\n",
    "engine = create_engine('sqlite:///data/CurrenciesDataBase.db')\n",
    "print(type(engine))\n",
    "df_market.to_sql(name=\"currencies_vs_btc\", con=engine, if_exists=\"append\", index=False)"
   ]
  },
  {
   "cell_type": "markdown",
   "id": "44f9cca1",
   "metadata": {},
   "source": [
    "#### Calculation of pct_change taking 2021-10-03 as date of reference"
   ]
  },
  {
   "cell_type": "code",
   "execution_count": null,
   "id": "92880d65",
   "metadata": {},
   "outputs": [],
   "source": [
    "# path_to_currencies = \"sqlite:///data/CurrenciesDataBase.db\"\n",
    "# df_market = pd.read_sql('currencies_vs_btc', path_to_currencies)\n",
    "\n",
    "# ### The pct calculations are not properly saved on the dataset unless I upload one previously saved. Why?\n",
    "# # The pipeline defined solve the issue by saving the calculated data on a new dataset but the calculations\n",
    "# # are done in the full dataset everytime the code runs.\n",
    "# # This practice is not scalable\n",
    "\n",
    "# # The pct could be calculated on the web interface for a given date selected by the users but this implies \n",
    "# # more processing time"
   ]
  },
  {
   "cell_type": "code",
   "execution_count": null,
   "id": "904cd5d3",
   "metadata": {},
   "outputs": [],
   "source": [
    "# df = df_market.groupby(by=[\"date\",\"currency_code\"]).mean()\n",
    "# df.reset_index(inplace=True)\n",
    "\n",
    "# ### Dataset with implicit exchange of reference by currency:\n",
    "# date_reference = \"2021-10-03\"\n",
    "# exchange = exchange_reference(df, date_reference)\n",
    "# exchange = pd.DataFrame.from_dict(exchange, orient=\"index\")\n",
    "\n",
    "# df['pct'] = df.apply(lambda x : ((x['implicit_exchange']/exchange.loc[x[\"currency_code\"]])-1)*100, axis = 1 )\n",
    "\n",
    "# ### Drop Null values:\n",
    "\n",
    "# df.dropna(subset=['pct'], inplace=True)"
   ]
  },
  {
   "cell_type": "code",
   "execution_count": null,
   "id": "cccf967f",
   "metadata": {},
   "outputs": [],
   "source": [
    "# df.info()"
   ]
  },
  {
   "cell_type": "code",
   "execution_count": null,
   "id": "0c02e65e",
   "metadata": {},
   "outputs": [],
   "source": [
    "# ### Saving on DB Version 2\n",
    "\n",
    "# engine = create_engine('sqlite:///data/CurrenciesDataBase_V2.db')\n",
    "# print(type(engine))\n",
    "# df.to_sql(name=\"currencies_vs_btc\", con=engine, if_exists=\"append\", index=False)"
   ]
  },
  {
   "cell_type": "code",
   "execution_count": null,
   "id": "888adcff",
   "metadata": {},
   "outputs": [],
   "source": [
    "now = dt.datetime.now()\n",
    "print(\"Last Execution: \")\n",
    "print(str(now))\n",
    "print('Download and transform API data completed')"
   ]
  },
  {
   "cell_type": "markdown",
   "id": "1a8a1429",
   "metadata": {},
   "source": [
    "# Load raw table to S3"
   ]
  },
  {
   "cell_type": "markdown",
   "id": "6b53d0fc",
   "metadata": {},
   "source": [
    "- Landing folder stores parquet files by day"
   ]
  },
  {
   "cell_type": "code",
   "execution_count": null,
   "id": "edadd46e",
   "metadata": {},
   "outputs": [],
   "source": [
    "file_name = f'./data/parquet/{time_stamp_utc}.parquet'\n",
    "object_name = f\"landing/{time_stamp_utc}.parquet\"\n",
    "upload_file(file_name, \"currencytracker\", object_name)"
   ]
  },
  {
   "cell_type": "markdown",
   "id": "edaadb3c",
   "metadata": {},
   "source": [
    "- Stage folder stores one file with all historical data"
   ]
  },
  {
   "cell_type": "code",
   "execution_count": null,
   "id": "37a31f8b",
   "metadata": {},
   "outputs": [],
   "source": [
    "file_name = f'./data/historical_data.parquet'\n",
    "object_name = f\"stage/{time_stamp_utc}.parquet\"\n",
    "upload_file(file_name, \"currencytracker\", object_name)"
   ]
  }
 ],
 "metadata": {
  "kernelspec": {
   "display_name": "Python 3 (ipykernel)",
   "language": "python",
   "name": "python3"
  },
  "language_info": {
   "codemirror_mode": {
    "name": "ipython",
    "version": 3
   },
   "file_extension": ".py",
   "mimetype": "text/x-python",
   "name": "python",
   "nbconvert_exporter": "python",
   "pygments_lexer": "ipython3",
   "version": "3.8.13"
  }
 },
 "nbformat": 4,
 "nbformat_minor": 5
}
